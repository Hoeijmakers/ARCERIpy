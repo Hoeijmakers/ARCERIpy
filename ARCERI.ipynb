{
 "cells": [
  {
   "cell_type": "code",
   "execution_count": 1,
   "metadata": {},
   "outputs": [
    {
     "data": {
      "text/html": [
       "<script>\n",
       "    // AUTORUN ALL CELLS ON NOTEBOOK-LOAD!\n",
       "    require(\n",
       "        ['base/js/namespace', 'jquery'], \n",
       "        function(jupyter, $) {\n",
       "            $(jupyter.events).on(\"kernel_ready.Kernel\", function () {\n",
       "                console.log(\"Auto-running all cells-below...\");\n",
       "                jupyter.actions.call('jupyter-notebook:run-all-cells-below');\n",
       "                jupyter.actions.call('jupyter-notebook:save-notebook');\n",
       "            });\n",
       "        }\n",
       "    );\n",
       "</script>\n"
      ],
      "text/plain": [
       "<IPython.core.display.HTML object>"
      ]
     },
     "metadata": {},
     "output_type": "display_data"
    }
   ],
   "source": [
    "%%html\n",
    "<script>\n",
    "    // AUTORUN ALL CELLS ON NOTEBOOK-LOAD!\n",
    "    require(\n",
    "        ['base/js/namespace', 'jquery'], \n",
    "        function(jupyter, $) {\n",
    "            $(jupyter.events).on(\"kernel_ready.Kernel\", function () {\n",
    "                console.log(\"Auto-running all cells-below...\");\n",
    "                jupyter.actions.call('jupyter-notebook:run-all-cells-below');\n",
    "                jupyter.actions.call('jupyter-notebook:save-notebook');\n",
    "            });\n",
    "        }\n",
    "    );\n",
    "</script>"
   ]
  },
  {
   "cell_type": "markdown",
   "metadata": {},
   "source": [
    "# This is a test for doing input in a Notebook as if it was a form."
   ]
  },
  {
   "cell_type": "code",
   "execution_count": 2,
   "metadata": {},
   "outputs": [
    {
     "data": {
      "text/markdown": [
       "Question 1"
      ],
      "text/plain": [
       "<IPython.core.display.Markdown object>"
      ]
     },
     "metadata": {},
     "output_type": "display_data"
    },
    {
     "data": {
      "application/vnd.jupyter.widget-view+json": {
       "model_id": "f2f88ff5b3704721ac10a13ab9704902",
       "version_major": 2,
       "version_minor": 0
      },
      "text/plain": [
       "Text(value='', placeholder='Answer')"
      ]
     },
     "metadata": {},
     "output_type": "display_data"
    },
    {
     "data": {
      "text/markdown": [
       "Question 2"
      ],
      "text/plain": [
       "<IPython.core.display.Markdown object>"
      ]
     },
     "metadata": {},
     "output_type": "display_data"
    },
    {
     "data": {
      "application/vnd.jupyter.widget-view+json": {
       "model_id": "3902fbe5660d4a6489d5828e6bbf3896",
       "version_major": 2,
       "version_minor": 0
      },
      "text/plain": [
       "Text(value='', placeholder='Answer')"
      ]
     },
     "metadata": {},
     "output_type": "display_data"
    },
    {
     "data": {
      "text/markdown": [
       "Question 3"
      ],
      "text/plain": [
       "<IPython.core.display.Markdown object>"
      ]
     },
     "metadata": {},
     "output_type": "display_data"
    },
    {
     "data": {
      "application/vnd.jupyter.widget-view+json": {
       "model_id": "a277a9a45cf84d6cb6db59230a43f319",
       "version_major": 2,
       "version_minor": 0
      },
      "text/plain": [
       "Text(value='', placeholder='Answer')"
      ]
     },
     "metadata": {},
     "output_type": "display_data"
    },
    {
     "data": {
      "text/markdown": [
       "Oh no, still you need to fill this in:"
      ],
      "text/plain": [
       "<IPython.core.display.Markdown object>"
      ]
     },
     "metadata": {},
     "output_type": "display_data"
    },
    {
     "data": {
      "application/vnd.jupyter.widget-view+json": {
       "model_id": "a0f48396806e4304a07ac26ca97db864",
       "version_major": 2,
       "version_minor": 0
      },
      "text/plain": [
       "RadioButtons(options=('Observational', 'Theoretical', 'Other:'), value='Observational')"
      ]
     },
     "metadata": {},
     "output_type": "display_data"
    },
    {
     "data": {
      "application/vnd.jupyter.widget-view+json": {
       "model_id": "3333b4cf47714e21b1000897ec82f079",
       "version_major": 2,
       "version_minor": 0
      },
      "text/plain": [
       "Text(value='', disabled=True, placeholder='Answer')"
      ]
     },
     "metadata": {},
     "output_type": "display_data"
    },
    {
     "data": {
      "application/vnd.jupyter.widget-view+json": {
       "model_id": "461ad3a6c5c0469ab501dbd2bb27fae3",
       "version_major": 2,
       "version_minor": 0
      },
      "text/plain": [
       "Button(button_style='success', description='Submit', icon='check', style=ButtonStyle(), tooltip='Submit answer…"
      ]
     },
     "metadata": {},
     "output_type": "display_data"
    }
   ],
   "source": [
    "\n",
    "import ipywidgets as widgets\n",
    "from IPython.display import display, Markdown, Latex\n",
    "from IPython.display import HTML\n",
    "\n",
    "output = widgets.Output()\n",
    "\n",
    "q1 = widgets.Text(placeholder='Answer', disabled=False)\n",
    "q2 = widgets.Text(placeholder='Answer', disabled=False)\n",
    "q3 = widgets.Text(placeholder='Answer', disabled=False)\n",
    "q4 = widgets.Text(placeholder='Answer', disabled=False)\n",
    "q5 = widgets.Text(placeholder='Answer', disabled=True)\n",
    "\n",
    "type_radio = widgets.RadioButtons(\n",
    "    options=['Observational', 'Theoretical', 'Other:'],\n",
    "    description='',\n",
    "    disabled=False\n",
    ")\n",
    "\n",
    "def tester(event):\n",
    "    if type_radio.value == 'Other:':\n",
    "        q5.set_trait('disabled',False)\n",
    "    else:\n",
    "        q5.set_trait('disabled',True)\n",
    "def submit(event):\n",
    "    print('Submit form to file:')\n",
    "    print(q1.value)\n",
    "    print(q2.value)\n",
    "    print(type_radio.value)\n",
    "submit_button = widgets.Button(value=False,description='Submit',disabled=False,button_style='success', # 'success', 'info', 'warning', 'danger' or ''\n",
    "                     tooltip='Submit answers',icon='check')\n",
    "submit_button.on_click(submit)\n",
    "type_radio.observe(tester)\n",
    "\n",
    "display(Markdown('Question 1'))\n",
    "display(q1)\n",
    "display(Markdown('Question 2'))\n",
    "display(q2)\n",
    "display(Markdown('Question 3'))\n",
    "display(q3)\n",
    "display(Markdown('Oh no, still you need to fill this in:'))\n",
    "display(type_radio)\n",
    "display(q5)\n",
    "display(submit_button)"
   ]
  },
  {
   "cell_type": "code",
   "execution_count": null,
   "metadata": {},
   "outputs": [],
   "source": []
  },
  {
   "cell_type": "code",
   "execution_count": null,
   "metadata": {},
   "outputs": [],
   "source": []
  }
 ],
 "metadata": {
  "kernelspec": {
   "display_name": "Python 3",
   "language": "python",
   "name": "python3"
  },
  "language_info": {
   "codemirror_mode": {
    "name": "ipython",
    "version": 3
   },
   "file_extension": ".py",
   "mimetype": "text/x-python",
   "name": "python",
   "nbconvert_exporter": "python",
   "pygments_lexer": "ipython3",
   "version": "3.6.4"
  }
 },
 "nbformat": 4,
 "nbformat_minor": 2
}
