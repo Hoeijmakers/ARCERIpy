{
 "cells": [
  {
   "cell_type": "code",
   "execution_count": 1,
   "metadata": {
    "scrolled": true
   },
   "outputs": [
    {
     "data": {
      "text/html": [
       "<script>\n",
       "    // AUTORUN ALL CELLS ON NOTEBOOK-LOAD!\n",
       "    require(\n",
       "        ['base/js/namespace', 'jquery'], \n",
       "        function(jupyter, $) {\n",
       "            $(jupyter.events).on(\"kernel_ready.Kernel\", function () {\n",
       "                console.log(\"Auto-running all cells-below...\");\n",
       "                jupyter.actions.call('jupyter-notebook:run-all-cells-below');\n",
       "                jupyter.actions.call('jupyter-notebook:run-all-cells-below');\n",
       "                console.log(\"Double tap.\");\n",
       "                jupyter.actions.call('jupyter-notebook:run-all-cells-below');\n",
       "                jupyter.actions.call('jupyter-notebook:run-all-cells-below');\n",
       "                jupyter.actions.call('jupyter-notebook:save-notebook');\n",
       "            });\n",
       "        }\n",
       "    );\n",
       "</script>\n",
       "<script>\n",
       "code_show=true; \n",
       "function code_toggle() {\n",
       " if (code_show){\n",
       " $('div.input').hide();\n",
       " } else {\n",
       " $('div.input').show();\n",
       " }\n",
       " code_show = !code_show\n",
       "} \n",
       "$( document ).ready(code_toggle);\n",
       "</script>\n",
       "The source code for this IPython notebook is hidden.\n",
       "To view the source code, <a href=\"javascript:code_toggle()\">click here</a>.\n"
      ],
      "text/plain": [
       "<IPython.core.display.HTML object>"
      ]
     },
     "metadata": {},
     "output_type": "display_data"
    }
   ],
   "source": [
    "%%html\n",
    "<script>\n",
    "    // AUTORUN ALL CELLS ON NOTEBOOK-LOAD!\n",
    "    require(\n",
    "        ['base/js/namespace', 'jquery'], \n",
    "        function(jupyter, $) {\n",
    "            $(jupyter.events).on(\"kernel_ready.Kernel\", function () {\n",
    "                console.log(\"Auto-running all cells-below...\");\n",
    "                jupyter.actions.call('jupyter-notebook:run-all-cells-below');\n",
    "                jupyter.actions.call('jupyter-notebook:run-all-cells-below');\n",
    "                console.log(\"Double tap.\");\n",
    "                jupyter.actions.call('jupyter-notebook:run-all-cells-below');\n",
    "                jupyter.actions.call('jupyter-notebook:run-all-cells-below');\n",
    "                jupyter.actions.call('jupyter-notebook:save-notebook');\n",
    "            });\n",
    "        }\n",
    "    );\n",
    "</script>\n",
    "<script>\n",
    "code_show=true; \n",
    "function code_toggle() {\n",
    " if (code_show){\n",
    " $('div.input').hide();\n",
    " } else {\n",
    " $('div.input').show();\n",
    " }\n",
    " code_show = !code_show\n",
    "} \n",
    "$( document ).ready(code_toggle);\n",
    "</script>\n",
    "The source code for this IPython notebook is hidden.\n",
    "To view the source code, <a href=\"javascript:code_toggle()\">click here</a>."
   ]
  },
  {
   "cell_type": "markdown",
   "metadata": {},
   "source": [
    "# Structured Summary (Article Annotation)\n",
    "Use this form every time you read a research article to create notes that become your \"zeroth\" draft for writing. Paraphrase in your own words. If you copy a quote, surround the phrase in your notes with quotation marks."
   ]
  },
  {
   "cell_type": "code",
   "execution_count": 2,
   "metadata": {
    "scrolled": false
   },
   "outputs": [
    {
     "data": {
      "text/markdown": [
       "Authors __<font color=red>*</font>__"
      ],
      "text/plain": [
       "<IPython.core.display.Markdown object>"
      ]
     },
     "metadata": {},
     "output_type": "display_data"
    },
    {
     "data": {
      "application/vnd.jupyter.widget-view+json": {
       "model_id": "bad2e0afa07b4f3683dab7e3ca8733d8",
       "version_major": 2,
       "version_minor": 0
      },
      "text/plain": [
       "HBox(children=(Text(value='', placeholder='First'), Text(value='', placeholder='Second'), Text(value='', place…"
      ]
     },
     "metadata": {},
     "output_type": "display_data"
    },
    {
     "data": {
      "text/markdown": [
       "Year __<font color=red>*</font>__"
      ],
      "text/plain": [
       "<IPython.core.display.Markdown object>"
      ]
     },
     "metadata": {},
     "output_type": "display_data"
    },
    {
     "data": {
      "application/vnd.jupyter.widget-view+json": {
       "model_id": "7446f76395f94ff98904d5c08afa66e6",
       "version_major": 2,
       "version_minor": 0
      },
      "text/plain": [
       "Text(value='', placeholder='Year')"
      ]
     },
     "metadata": {},
     "output_type": "display_data"
    },
    {
     "data": {
      "text/markdown": [
       "Title __<font color=red>*</font>__"
      ],
      "text/plain": [
       "<IPython.core.display.Markdown object>"
      ]
     },
     "metadata": {},
     "output_type": "display_data"
    },
    {
     "data": {
      "application/vnd.jupyter.widget-view+json": {
       "model_id": "96315575ec8a41168871541d6c44b350",
       "version_major": 2,
       "version_minor": 0
      },
      "text/plain": [
       "Text(value='', placeholder='Title')"
      ]
     },
     "metadata": {},
     "output_type": "display_data"
    },
    {
     "data": {
      "text/markdown": [
       "Link / url"
      ],
      "text/plain": [
       "<IPython.core.display.Markdown object>"
      ]
     },
     "metadata": {},
     "output_type": "display_data"
    },
    {
     "data": {
      "application/vnd.jupyter.widget-view+json": {
       "model_id": "91529ef4dd9e470aa8227b425b46623a",
       "version_major": 2,
       "version_minor": 0
      },
      "text/plain": [
       "Text(value='', placeholder='https://ui.adsabs.harvard.edu/abs/2019A%26A...627A.165H/abstract')"
      ]
     },
     "metadata": {},
     "output_type": "display_data"
    },
    {
     "data": {
      "text/markdown": [
       "Claim (i.e., hypothesis found in Title, Abstract, Intro, etc)"
      ],
      "text/plain": [
       "<IPython.core.display.Markdown object>"
      ]
     },
     "metadata": {},
     "output_type": "display_data"
    },
    {
     "data": {
      "application/vnd.jupyter.widget-view+json": {
       "model_id": "d961519484a540bdbb08d5f7ae8407f7",
       "version_major": 2,
       "version_minor": 0
      },
      "text/plain": [
       "Textarea(value='', placeholder='Answer')"
      ]
     },
     "metadata": {},
     "output_type": "display_data"
    },
    {
     "data": {
      "text/markdown": [
       "Evidence (i.e., data, measurements, outcomes found in Results)"
      ],
      "text/plain": [
       "<IPython.core.display.Markdown object>"
      ]
     },
     "metadata": {},
     "output_type": "display_data"
    },
    {
     "data": {
      "application/vnd.jupyter.widget-view+json": {
       "model_id": "86012f5da055406d852c63a56a98c0de",
       "version_major": 2,
       "version_minor": 0
      },
      "text/plain": [
       "Textarea(value='', placeholder='Answer')"
      ]
     },
     "metadata": {},
     "output_type": "display_data"
    },
    {
     "data": {
      "text/markdown": [
       "Reasoning (i.e., connect evidence to claim found in Interpretation or Discussion)"
      ],
      "text/plain": [
       "<IPython.core.display.Markdown object>"
      ]
     },
     "metadata": {},
     "output_type": "display_data"
    },
    {
     "data": {
      "application/vnd.jupyter.widget-view+json": {
       "model_id": "1d05f38c03ff4116bede7db815dd6587",
       "version_major": 2,
       "version_minor": 0
      },
      "text/plain": [
       "Textarea(value='', placeholder='Answer')"
      ]
     },
     "metadata": {},
     "output_type": "display_data"
    },
    {
     "data": {
      "text/markdown": [
       "Implications (i.e., What next? Found in Interpretation or Discussion)"
      ],
      "text/plain": [
       "<IPython.core.display.Markdown object>"
      ]
     },
     "metadata": {},
     "output_type": "display_data"
    },
    {
     "data": {
      "application/vnd.jupyter.widget-view+json": {
       "model_id": "fe46e1442a0f4daf826537b4bd5f00ee",
       "version_major": 2,
       "version_minor": 0
      },
      "text/plain": [
       "Textarea(value='', placeholder='Answer')"
      ]
     },
     "metadata": {},
     "output_type": "display_data"
    },
    {
     "data": {
      "text/markdown": [
       "What is the over-arching type of study (e.g. observational or theoretical)?"
      ],
      "text/plain": [
       "<IPython.core.display.Markdown object>"
      ]
     },
     "metadata": {},
     "output_type": "display_data"
    },
    {
     "data": {
      "application/vnd.jupyter.widget-view+json": {
       "model_id": "3b9427df4da84c73a15ef18aadd78701",
       "version_major": 2,
       "version_minor": 0
      },
      "text/plain": [
       "RadioButtons(options=('Observational', 'Theoretical', 'Other:'), value='Observational')"
      ]
     },
     "metadata": {},
     "output_type": "display_data"
    },
    {
     "data": {
      "application/vnd.jupyter.widget-view+json": {
       "model_id": "c039bd422ba542e289e6dc1cffa0a1b2",
       "version_major": 2,
       "version_minor": 0
      },
      "text/plain": [
       "Text(value='', disabled=True, placeholder='Answer')"
      ]
     },
     "metadata": {},
     "output_type": "display_data"
    },
    {
     "data": {
      "text/markdown": [
       "Please assign keywords that describe the topic of the paper."
      ],
      "text/plain": [
       "<IPython.core.display.Markdown object>"
      ]
     },
     "metadata": {},
     "output_type": "display_data"
    },
    {
     "data": {
      "application/vnd.jupyter.widget-view+json": {
       "model_id": "5737a7c1caea4aa58991ac15eb7fd93e",
       "version_major": 2,
       "version_minor": 0
      },
      "text/plain": [
       "HBox(children=(VBox(children=(Checkbox(value=False, description='Atmospheric chemistry'), Checkbox(value=False…"
      ]
     },
     "metadata": {},
     "output_type": "display_data"
    },
    {
     "data": {
      "text/markdown": [
       "Other keywords (separate multiple with commas)"
      ],
      "text/plain": [
       "<IPython.core.display.Markdown object>"
      ]
     },
     "metadata": {},
     "output_type": "display_data"
    },
    {
     "data": {
      "application/vnd.jupyter.widget-view+json": {
       "model_id": "dd5c1ad8bc2247f49ee9d8abe7aee3f3",
       "version_major": 2,
       "version_minor": 0
      },
      "text/plain": [
       "Text(value='', placeholder='Geophysics, Compact objects, Galaxies')"
      ]
     },
     "metadata": {},
     "output_type": "display_data"
    },
    {
     "data": {
      "text/markdown": [
       "Credibility of author (i.e., affiliations, prior publications)"
      ],
      "text/plain": [
       "<IPython.core.display.Markdown object>"
      ]
     },
     "metadata": {},
     "output_type": "display_data"
    },
    {
     "data": {
      "application/vnd.jupyter.widget-view+json": {
       "model_id": "533d5a11ad134c5496982f52149af320",
       "version_major": 2,
       "version_minor": 0
      },
      "text/plain": [
       "Text(value='', placeholder='Answer')"
      ]
     },
     "metadata": {},
     "output_type": "display_data"
    },
    {
     "data": {
      "text/markdown": [
       "Purpose of the study"
      ],
      "text/plain": [
       "<IPython.core.display.Markdown object>"
      ]
     },
     "metadata": {},
     "output_type": "display_data"
    },
    {
     "data": {
      "application/vnd.jupyter.widget-view+json": {
       "model_id": "3b0751b1db974d788ab0764adfe50ced",
       "version_major": 2,
       "version_minor": 0
      },
      "text/plain": [
       "Text(value='', placeholder='Answer')"
      ]
     },
     "metadata": {},
     "output_type": "display_data"
    },
    {
     "data": {
      "text/markdown": [
       "Questions about the study?"
      ],
      "text/plain": [
       "<IPython.core.display.Markdown object>"
      ]
     },
     "metadata": {},
     "output_type": "display_data"
    },
    {
     "data": {
      "application/vnd.jupyter.widget-view+json": {
       "model_id": "4d4682a967254a1388935e1a5ed67278",
       "version_major": 2,
       "version_minor": 0
      },
      "text/plain": [
       "Textarea(value='', placeholder='Answer')"
      ]
     },
     "metadata": {},
     "output_type": "display_data"
    },
    {
     "data": {
      "text/markdown": [
       "How does the study connect to my research question?"
      ],
      "text/plain": [
       "<IPython.core.display.Markdown object>"
      ]
     },
     "metadata": {},
     "output_type": "display_data"
    },
    {
     "data": {
      "application/vnd.jupyter.widget-view+json": {
       "model_id": "299cefdd071d4412bdcfcc535ce374e9",
       "version_major": 2,
       "version_minor": 0
      },
      "text/plain": [
       "Textarea(value='', placeholder='Answer')"
      ]
     },
     "metadata": {},
     "output_type": "display_data"
    },
    {
     "data": {
      "application/vnd.jupyter.widget-view+json": {
       "model_id": "6d19456ea5b64d2d987120ae316a92d0",
       "version_major": 2,
       "version_minor": 0
      },
      "text/plain": [
       "Button(button_style='danger', description='Submit', disabled=True, icon='check', style=ButtonStyle(), tooltip=…"
      ]
     },
     "metadata": {},
     "output_type": "display_data"
    }
   ],
   "source": [
    "import ipywidgets as widgets\n",
    "from ipywidgets import Button, HBox, VBox\n",
    "from IPython.display import display, Markdown, Latex, HTML\n",
    "from IPython.display import clear_output\n",
    "import os.path\n",
    "import math\n",
    "import copy\n",
    "import csv\n",
    "import datetime\n",
    "import time\n",
    "output = widgets.Output()\n",
    "\n",
    "question_fields = [\n",
    "    widgets.Text(placeholder='First', disabled=False),#First author\n",
    "    widgets.Text(placeholder='Second', disabled=False),#Second author\n",
    "    widgets.Text(placeholder='Third', disabled=False),#Third author\n",
    "    widgets.Text(placeholder='Year', disabled=False),#Year\n",
    "    widgets.Text(placeholder='Title', disabled=False),#URL,\n",
    "    widgets.Text(placeholder='https://ui.adsabs.harvard.edu/abs/2019A%26A...627A.165H/abstract', disabled=False),#Title\n",
    "    widgets.Textarea(placeholder='Answer', disabled=False),#C\n",
    "    widgets.Textarea(placeholder='Answer', disabled=False),#E\n",
    "    widgets.Textarea(placeholder='Answer', disabled=False),#R\n",
    "    widgets.Textarea(placeholder='Answer', disabled=False),#I\n",
    "    widgets.Text(placeholder='Answer', disabled=False),#Credibility\n",
    "    widgets.Text(placeholder='Answer', disabled=False),#Purpose of study\n",
    "    widgets.Textarea(placeholder='Answer', disabled=False),#Questions about study\n",
    "    widgets.Textarea(placeholder='Answer', disabled=False),#How does the study connect to my research?\n",
    "]\n",
    "\n",
    "questions_short = ['First author',#These are the names of the columns in the csv.\n",
    "                   'Second author',\n",
    "                   'Third author',\n",
    "                   'Year',\n",
    "                   'Title',\n",
    "                   'URL',\n",
    "                   'Claim',\n",
    "                   'Evidence',\n",
    "                   'Reasoning',\n",
    "                   'Implications',\n",
    "                   'Credibility',\n",
    "                   'Purpose of study',\n",
    "                   'Questions about study',\n",
    "                   'How does it connect?',\n",
    "                  ]\n",
    "\n",
    "#This is the text that comes with the questions. The first 3 (authors) are grouped horizontally, so they only require 1 line.\n",
    "#The last two (Type and Keywords) are done explicitly, below, after the following question index:\n",
    "type_and_keyword_index = 9\n",
    "redstar = ' __<font color=red>*</font>__'\n",
    "questions_full = ['Authors'+redstar,\n",
    "                  'Year'+redstar,\n",
    "                  'Title'+redstar,\n",
    "                  'Link / url',\n",
    "                  'Claim (i.e., hypothesis found in Title, Abstract, Intro, etc)',\n",
    "                  'Evidence (i.e., data, measurements, outcomes found in Results)',\n",
    "                  'Reasoning (i.e., connect evidence to claim found in Interpretation or Discussion)',\n",
    "                  'Implications (i.e., What next? Found in Interpretation or Discussion)',\n",
    "                  'Credibility of author (i.e., affiliations, prior publications)',\n",
    "                  'Purpose of the study',\n",
    "                  'Questions about the study?',\n",
    "                  'How does the study connect to my research question?',   \n",
    "]\n",
    "\n",
    "\n",
    "\n",
    "\n",
    "\n",
    "\n",
    "\n",
    "\n",
    "\n",
    "#Now starts the main code.\n",
    "#First we test that the number of question texts, question fields, and csv columns are consistent.\n",
    "questions_short.append('Type')\n",
    "questions_short.append('Keywords')\n",
    "if len(question_fields) != len(questions_short)-2:\n",
    "    print(len(question_fields),len(questions_short)-2)\n",
    "    print('ERROR: Wrong number of questions fields vs csv columns.')\n",
    "if len(questions_full) != len(questions_short)-4:\n",
    "    print('ERROR: Wrong number of questions (full text) vs question fields.')\n",
    "    print('Length questions_full: '+str(len(questions_full)))\n",
    "    print('Length questions_short: '+str(len(questions_short)-4))\n",
    "    \n",
    "    \n",
    "    \n",
    "    \n",
    "#    \n",
    "kw_path = 'keywords.txt'#Path to textfile that contains a keyword on each line.\n",
    "#THIS HANDLES THE BIG GRID OF CHECKBOXES FOR PAPER KEYWORDS:\n",
    "def create_keyword_matrix():\n",
    "    ncol_max = 3  #4 columns\n",
    "    nrow_min = 4  #start with 4 rows minimum before populating the other columns.\n",
    "    \n",
    "    if os.path.isfile(kw_path):\n",
    "        keywords = open(kw_path,'r').read().splitlines()\n",
    "        keywords.sort()\n",
    "    else:\n",
    "        keywords = ['Exoplanets']\n",
    "    N_keywords = len(keywords)\n",
    "    nrow = max([nrow_min,math.ceil(N_keywords/ncol_max)])#Based on the number of keywords, determine the number of rows and columns\n",
    "    ncol = min([ncol_max,math.ceil(N_keywords/nrow)])\n",
    "    M=[[]]#This will be built up with the grid.\n",
    "    col = 0#Start with column zero.\n",
    "    for i,kw in enumerate(keywords):\n",
    "        if (i % nrow) == 0 and i != 0:\n",
    "            M.append([])\n",
    "            col+=1 \n",
    "        M[col].append(widgets.Checkbox(value=False,description=kw,disabled=False))\n",
    "    VBoxes = []\n",
    "    for col in M:\n",
    "        VBoxes.append(VBox(col))\n",
    "    return(HBox(VBoxes))\n",
    "keyword_matrix = create_keyword_matrix()\n",
    "keyword_other = widgets.Text(placeholder='Geophysics, Compact objects, Galaxies')\n",
    "\n",
    "\n",
    "# ==========================================================================================\n",
    "def append_options(path,items):\n",
    "        with open(path,'a+') as f:\n",
    "            for i in items:\n",
    "                f.write(i+'\\n')\n",
    "\n",
    "# THIS HANDLES THE PAPER TYPES RADIO-BUTTONS:\n",
    "tp_path = 'types.txt'\n",
    "def read_types(tp_path):\n",
    "    if os.path.isfile(tp_path):\n",
    "        types = open(tp_path,'r').read().splitlines()\n",
    "        types.sort()\n",
    "    else:\n",
    "        types = ['Observational', 'Theoretical']\n",
    "        append_options(tp_path,types)\n",
    "    types_options=copy.deepcopy(types)\n",
    "    types_options.append('Other:')#Copy it to allow Other: to be added, without being a proper keyword.\n",
    "    return(types_options)\n",
    "types_options=read_types(tp_path)\n",
    "        \n",
    "\n",
    "type_radio = widgets.RadioButtons(options=types_options,description='',disabled=False)\n",
    "type_other = widgets.Text(placeholder='Answer', disabled=True)\n",
    "def disabler(event):\n",
    "    if type_radio.value == 'Other:':\n",
    "        type_other.set_trait('disabled',False)\n",
    "    else:\n",
    "        type_other.set_trait('disabled',True)\n",
    "\n",
    "# =============================================\n",
    "\n",
    "def button_enabler(event):\n",
    "    if question_fields[0].value != '' and question_fields[3].value != '' and question_fields[4].value != '':\n",
    "        submit_button.set_trait('disabled',False) \n",
    "        submit_button.set_trait('button_style','success')\n",
    "    else:\n",
    "        submit_button.set_trait('disabled',True)\n",
    "        submit_button.set_trait('button_style','danger')\n",
    "        \n",
    "        \n",
    "# THIS HANDLES THE SUBMIT-BUTTON: \n",
    "#EVERYTHING HERE NEEDS TO BE COPIES. ARRAYS FROM ABOVE MAY NOT BE APPENDED.\n",
    "def submit(event):\n",
    "    #First add the new keywords and types to their respective files.\n",
    "    if type_radio.value == 'Other:':#If an other was set, we need to first select it to be the output, rather than the state of the radio button.\n",
    "        papertype = type_other.value\n",
    "        types_options = read_types(tp_path)\n",
    "        if (papertype in types_options) == False:#And if its not already in types.txt, we need to add it. (This basically catches the event that the user puts an existing value as Other.)\n",
    "            append_options(tp_path,[papertype])#Write to file.\n",
    "    else:\n",
    "        papertype = copy.deepcopy(type_radio.value)\n",
    "        \n",
    "    if len(keyword_other.value) != 0:\n",
    "        new_keywords=[]#Redefined each time submit button is pressed.\n",
    "        for nkw in keyword_other.value.split(','):#Split the new keyword string on the commas and remove trailing and leading spaces for each element.\n",
    "            new_keywords.append(nkw.lstrip().rstrip())\n",
    "        append_options(kw_path,new_keywords)#Write to file.\n",
    "        \n",
    "    #Add all the output values to a single list.    \n",
    "    outlist = [i.value for i in question_fields]#Redefined each time button is pressed...\n",
    "    outlist.append(papertype)#...so this is allowed.\n",
    "    \n",
    "\n",
    "    #Add the selected keywords as a list to this list:\n",
    "    selected_keywords = ''#Redefined each time button is pressed.\n",
    "    global keyword_matrix\n",
    "    for i in keyword_matrix.children:\n",
    "        for j in i.children:\n",
    "            if j.value == True:\n",
    "                selected_keywords+=j.description+' '\n",
    "    outlist.append(selected_keywords)\n",
    "    outlist.append(str(datetime.datetime.now()))\n",
    "    csv_columns = copy.deepcopy(questions_short)\n",
    "    csv_columns.append('Date added')\n",
    "    \n",
    "    if os.path.isfile('references.csv') != True:#Create new references file if it doesnt already exist.\n",
    "        print('Creating new references.csv.')\n",
    "        with open('references.csv', 'a+') as f:\n",
    "            writer = csv.writer(f)\n",
    "            writer.writerow(csv_columns)\n",
    "\n",
    "    with open('references.csv', 'a') as f:\n",
    "        writer = csv.writer(f)\n",
    "        writer.writerow(outlist)\n",
    "    \n",
    "    #Finally reset the entire form:\n",
    "    clear_output()\n",
    "    for qf in question_fields:\n",
    "        qf.value = ''\n",
    "    for i in keyword_matrix.children:\n",
    "        for j in i.children:\n",
    "            j.value = False\n",
    "    keyword_other.value = ''\n",
    "    type_other.value = ''\n",
    "    types_options = read_types(tp_path)\n",
    "    type_radio.options = types_options\n",
    "    keyword_matrix = create_keyword_matrix()\n",
    "    spawn_form()\n",
    "    \n",
    "    \n",
    "    \n",
    "\n",
    "submit_button = widgets.Button(value=False,description='Submit',disabled=True,button_style='danger', # 'success', 'info', 'warning', 'danger' or ''\n",
    "                     tooltip='Submit answers',icon='check')\n",
    "submit_button.on_click(submit)\n",
    "type_radio.observe(disabler)\n",
    "question_fields[0].observe(button_enabler)\n",
    "question_fields[3].observe(button_enabler)\n",
    "question_fields[4].observe(button_enabler)\n",
    "\n",
    "\n",
    "        \n",
    "\n",
    "\n",
    "def spawn_form():\n",
    "    display(Markdown(questions_full[0]))\n",
    "    display(HBox([question_fields[0],question_fields[1],question_fields[2]]))\n",
    "    for i,q in enumerate(question_fields):\n",
    "        if i >= 3:\n",
    "            display(Markdown(questions_full[i-2]))\n",
    "            display(q)\n",
    "        if i == type_and_keyword_index:\n",
    "            display(Markdown('What is the over-arching type of study (e.g. observational or theoretical)?'))\n",
    "            display(type_radio)\n",
    "            display(type_other)\n",
    "            display(Markdown('Please assign keywords that describe the topic of the paper.'))\n",
    "            display(keyword_matrix)\n",
    "            display(Markdown('Other keywords (separate multiple with commas)'))\n",
    "            display(keyword_other)\n",
    "    display(submit_button)\n",
    "spawn_form()\n"
   ]
  }
 ],
 "metadata": {
  "kernelspec": {
   "display_name": "Python 3",
   "language": "python",
   "name": "python3"
  },
  "language_info": {
   "codemirror_mode": {
    "name": "ipython",
    "version": 3
   },
   "file_extension": ".py",
   "mimetype": "text/x-python",
   "name": "python",
   "nbconvert_exporter": "python",
   "pygments_lexer": "ipython3",
   "version": "3.6.4"
  },
  "widgets": {
   "application/vnd.jupyter.widget-state+json": {
    "state": {
     "00358c9db80741c4b59efc1bfcf3c5b9": {
      "model_module": "@jupyter-widgets/controls",
      "model_module_version": "1.4.0",
      "model_name": "TextModel",
      "state": {
       "disabled": true,
       "layout": "IPY_MODEL_3183110b21ae4f2cb48ceca1d51d7df7",
       "placeholder": "Answer",
       "style": "IPY_MODEL_dfb078eafe214d1b8117f2fc5e608ce2"
      }
     },
     "01a6c5ecd2214dc3835c0c01d8287007": {
      "model_module": "@jupyter-widgets/controls",
      "model_module_version": "1.4.0",
      "model_name": "RadioButtonsModel",
      "state": {
       "_options_labels": [
        "Observational",
        "Theoretical",
        "Other:"
       ],
       "index": 0,
       "layout": "IPY_MODEL_e45285436c834c8e96b116df98822f53",
       "style": "IPY_MODEL_d48069e2eb61475d93091fa79e2c99ec"
      }
     },
     "03eac3e2434f4720a9d1bda9af698ffe": {
      "model_module": "@jupyter-widgets/controls",
      "model_module_version": "1.4.0",
      "model_name": "TextModel",
      "state": {
       "layout": "IPY_MODEL_9f10c28e1fe8456faacbb3c2662cc656",
       "placeholder": "Answer",
       "style": "IPY_MODEL_6b65e707f9014ef4ac6e759683742a33"
      }
     },
     "04db1d976fe3482e983893b9675ca4de": {
      "model_module": "@jupyter-widgets/base",
      "model_module_version": "1.1.0",
      "model_name": "LayoutModel",
      "state": {}
     },
     "09856e4eee9e4d15b41246e42201f022": {
      "model_module": "@jupyter-widgets/base",
      "model_module_version": "1.1.0",
      "model_name": "LayoutModel",
      "state": {}
     },
     "0b24e585238146b382db83efa8d0b0e1": {
      "model_module": "@jupyter-widgets/controls",
      "model_module_version": "1.4.0",
      "model_name": "DescriptionStyleModel",
      "state": {
       "description_width": ""
      }
     },
     "0c95469fa39b46c5ae7a6da9100654c4": {
      "model_module": "@jupyter-widgets/base",
      "model_module_version": "1.1.0",
      "model_name": "LayoutModel",
      "state": {}
     },
     "0e09407264814fc0b81cef3b0db785fc": {
      "model_module": "@jupyter-widgets/controls",
      "model_module_version": "1.4.0",
      "model_name": "DescriptionStyleModel",
      "state": {
       "description_width": ""
      }
     },
     "11c8b896cba64a15ab09669cfcf6feb0": {
      "model_module": "@jupyter-widgets/controls",
      "model_module_version": "1.4.0",
      "model_name": "DescriptionStyleModel",
      "state": {
       "description_width": ""
      }
     },
     "12115b52f02f468d9efba59b1310efa1": {
      "model_module": "@jupyter-widgets/controls",
      "model_module_version": "1.4.0",
      "model_name": "TextModel",
      "state": {
       "layout": "IPY_MODEL_f3d781c2de63475ab41b267660e6f1f3",
       "placeholder": "Answer",
       "style": "IPY_MODEL_0e09407264814fc0b81cef3b0db785fc"
      }
     },
     "1d30cc6089ee4f4c985d34adb61708aa": {
      "model_module": "@jupyter-widgets/base",
      "model_module_version": "1.1.0",
      "model_name": "LayoutModel",
      "state": {}
     },
     "2023c7adfb1c474dac65c262ac9d1a8e": {
      "model_module": "@jupyter-widgets/base",
      "model_module_version": "1.1.0",
      "model_name": "LayoutModel",
      "state": {}
     },
     "203469c5fd954ca9811bd51c36e284fb": {
      "model_module": "@jupyter-widgets/base",
      "model_module_version": "1.1.0",
      "model_name": "LayoutModel",
      "state": {}
     },
     "25b615d6a5324d02ba21acd7cb8bba62": {
      "model_module": "@jupyter-widgets/base",
      "model_module_version": "1.1.0",
      "model_name": "LayoutModel",
      "state": {}
     },
     "2774bcb8e88343cbbe881aa089616d7c": {
      "model_module": "@jupyter-widgets/base",
      "model_module_version": "1.1.0",
      "model_name": "LayoutModel",
      "state": {}
     },
     "2be2008df6714334a0f1c480c4e888dc": {
      "model_module": "@jupyter-widgets/controls",
      "model_module_version": "1.4.0",
      "model_name": "ButtonModel",
      "state": {
       "button_style": "success",
       "description": "Submit",
       "icon": "check",
       "layout": "IPY_MODEL_ea3aba12abd940208faecc20cd6832ff",
       "style": "IPY_MODEL_e486a1e2d48841cf873c2e626f18ffff",
       "tooltip": "Submit answers"
      }
     },
     "2e4e44e0eed940119a9d7c9fcaf501dd": {
      "model_module": "@jupyter-widgets/controls",
      "model_module_version": "1.4.0",
      "model_name": "DescriptionStyleModel",
      "state": {
       "description_width": ""
      }
     },
     "2f22389dacbc418fac9bbb8fd086b472": {
      "model_module": "@jupyter-widgets/controls",
      "model_module_version": "1.4.0",
      "model_name": "DescriptionStyleModel",
      "state": {
       "description_width": ""
      }
     },
     "3183110b21ae4f2cb48ceca1d51d7df7": {
      "model_module": "@jupyter-widgets/base",
      "model_module_version": "1.1.0",
      "model_name": "LayoutModel",
      "state": {}
     },
     "37a3d5eaa4204cc58eb340e28a18e71c": {
      "model_module": "@jupyter-widgets/controls",
      "model_module_version": "1.4.0",
      "model_name": "DescriptionStyleModel",
      "state": {
       "description_width": ""
      }
     },
     "447afebcc12f40bab0eea0945b62cc3c": {
      "model_module": "@jupyter-widgets/controls",
      "model_module_version": "1.4.0",
      "model_name": "RadioButtonsModel",
      "state": {
       "_options_labels": [
        "Observational",
        "Theoretical",
        "Other:"
       ],
       "index": 0,
       "layout": "IPY_MODEL_bfc5eb931f224fa0922de2eaf86d6d15",
       "style": "IPY_MODEL_37a3d5eaa4204cc58eb340e28a18e71c"
      }
     },
     "52b27bacf452440aa2e8281491b47fa6": {
      "model_module": "@jupyter-widgets/controls",
      "model_module_version": "1.4.0",
      "model_name": "TextModel",
      "state": {
       "layout": "IPY_MODEL_c4c8008554364e6ea63227bb6cd1cdc3",
       "placeholder": "Answer",
       "style": "IPY_MODEL_2e4e44e0eed940119a9d7c9fcaf501dd"
      }
     },
     "535106ae0b3241608f5e7d144c79de27": {
      "model_module": "@jupyter-widgets/controls",
      "model_module_version": "1.4.0",
      "model_name": "TextModel",
      "state": {
       "layout": "IPY_MODEL_e75b995b93dc40f78a60fd52b742049f",
       "placeholder": "Answer",
       "style": "IPY_MODEL_0b24e585238146b382db83efa8d0b0e1"
      }
     },
     "54448798b4f44cbb890a9fe98ff8679a": {
      "model_module": "@jupyter-widgets/controls",
      "model_module_version": "1.4.0",
      "model_name": "TextModel",
      "state": {
       "layout": "IPY_MODEL_09856e4eee9e4d15b41246e42201f022",
       "placeholder": "Answer",
       "style": "IPY_MODEL_ca08bdf0141d47d8af257196e808c7e5"
      }
     },
     "5d4a0d4b97f34ad4b8ffb0969a543e5f": {
      "model_module": "@jupyter-widgets/controls",
      "model_module_version": "1.4.0",
      "model_name": "DescriptionStyleModel",
      "state": {
       "description_width": ""
      }
     },
     "5fafd6cf8e11458aa5d4837a3837410a": {
      "model_module": "@jupyter-widgets/controls",
      "model_module_version": "1.4.0",
      "model_name": "TextModel",
      "state": {
       "layout": "IPY_MODEL_2023c7adfb1c474dac65c262ac9d1a8e",
       "placeholder": "Answer",
       "style": "IPY_MODEL_11c8b896cba64a15ab09669cfcf6feb0"
      }
     },
     "655b360a706949119757acadde74f427": {
      "model_module": "@jupyter-widgets/controls",
      "model_module_version": "1.4.0",
      "model_name": "DescriptionStyleModel",
      "state": {
       "description_width": ""
      }
     },
     "6b65e707f9014ef4ac6e759683742a33": {
      "model_module": "@jupyter-widgets/controls",
      "model_module_version": "1.4.0",
      "model_name": "DescriptionStyleModel",
      "state": {
       "description_width": ""
      }
     },
     "6de56854d022456bbfe987c451cc1fc7": {
      "model_module": "@jupyter-widgets/controls",
      "model_module_version": "1.4.0",
      "model_name": "DescriptionStyleModel",
      "state": {
       "description_width": ""
      }
     },
     "6fb4e79e3a30405ebb68e61dbccbef46": {
      "model_module": "@jupyter-widgets/base",
      "model_module_version": "1.1.0",
      "model_name": "LayoutModel",
      "state": {}
     },
     "70567ef2c6fd4ec09ddf2ea89c169a11": {
      "model_module": "@jupyter-widgets/controls",
      "model_module_version": "1.4.0",
      "model_name": "TextModel",
      "state": {
       "layout": "IPY_MODEL_203469c5fd954ca9811bd51c36e284fb",
       "placeholder": "Answer",
       "style": "IPY_MODEL_7fc28bc1f086419aacc9d81e79ac69a7"
      }
     },
     "72513335272f4754b189449818044bb5": {
      "model_module": "@jupyter-widgets/controls",
      "model_module_version": "1.4.0",
      "model_name": "TextModel",
      "state": {
       "layout": "IPY_MODEL_04db1d976fe3482e983893b9675ca4de",
       "placeholder": "Answer",
       "style": "IPY_MODEL_72ca5d69e01f4a6299d29eff85aba9dd"
      }
     },
     "72ca5d69e01f4a6299d29eff85aba9dd": {
      "model_module": "@jupyter-widgets/controls",
      "model_module_version": "1.4.0",
      "model_name": "DescriptionStyleModel",
      "state": {
       "description_width": ""
      }
     },
     "72eb4608806943f1b8a0b9eb0ff519fa": {
      "model_module": "@jupyter-widgets/base",
      "model_module_version": "1.1.0",
      "model_name": "LayoutModel",
      "state": {}
     },
     "798f996cfa4b464eaffa53c313dc0ffb": {
      "model_module": "@jupyter-widgets/base",
      "model_module_version": "1.1.0",
      "model_name": "LayoutModel",
      "state": {}
     },
     "7d722cc40098454ba7f8656f34c3a049": {
      "model_module": "@jupyter-widgets/controls",
      "model_module_version": "1.4.0",
      "model_name": "TextModel",
      "state": {
       "disabled": true,
       "layout": "IPY_MODEL_25b615d6a5324d02ba21acd7cb8bba62",
       "placeholder": "Answer",
       "style": "IPY_MODEL_655b360a706949119757acadde74f427"
      }
     },
     "7fc28bc1f086419aacc9d81e79ac69a7": {
      "model_module": "@jupyter-widgets/controls",
      "model_module_version": "1.4.0",
      "model_name": "DescriptionStyleModel",
      "state": {
       "description_width": ""
      }
     },
     "8cbe05866dc0472a8c8ef6aeb5bcd73e": {
      "model_module": "@jupyter-widgets/base",
      "model_module_version": "1.1.0",
      "model_name": "LayoutModel",
      "state": {}
     },
     "98282ea7547f4f5e9ab5e70da6cb3bcd": {
      "model_module": "@jupyter-widgets/base",
      "model_module_version": "1.1.0",
      "model_name": "LayoutModel",
      "state": {}
     },
     "98a9e014f3ff4eddb62ea7ec5ad0cd4b": {
      "model_module": "@jupyter-widgets/controls",
      "model_module_version": "1.4.0",
      "model_name": "DescriptionStyleModel",
      "state": {
       "description_width": ""
      }
     },
     "9f10c28e1fe8456faacbb3c2662cc656": {
      "model_module": "@jupyter-widgets/base",
      "model_module_version": "1.1.0",
      "model_name": "LayoutModel",
      "state": {}
     },
     "a770b1f8e3ac48a6bc0a9fec88a62a65": {
      "model_module": "@jupyter-widgets/controls",
      "model_module_version": "1.4.0",
      "model_name": "TextModel",
      "state": {
       "layout": "IPY_MODEL_2774bcb8e88343cbbe881aa089616d7c",
       "placeholder": "Answer",
       "style": "IPY_MODEL_5d4a0d4b97f34ad4b8ffb0969a543e5f"
      }
     },
     "a7b1aff0b1984753978b93ad74adcdfb": {
      "model_module": "@jupyter-widgets/base",
      "model_module_version": "1.1.0",
      "model_name": "LayoutModel",
      "state": {}
     },
     "a99d086d46264115bc8316a894cb60ed": {
      "model_module": "@jupyter-widgets/controls",
      "model_module_version": "1.4.0",
      "model_name": "TextModel",
      "state": {
       "layout": "IPY_MODEL_72eb4608806943f1b8a0b9eb0ff519fa",
       "placeholder": "Answer",
       "style": "IPY_MODEL_2f22389dacbc418fac9bbb8fd086b472"
      }
     },
     "b65845822d3448d88945dca308db77d5": {
      "model_module": "@jupyter-widgets/controls",
      "model_module_version": "1.4.0",
      "model_name": "TextModel",
      "state": {
       "disabled": true,
       "layout": "IPY_MODEL_d7020184896045fd89b63240ef6d7db7",
       "placeholder": "Answer",
       "style": "IPY_MODEL_e4c2f20c26f14d7ba9b93b9b6c427379"
      }
     },
     "b839b27c741e41bab54ba52317448edd": {
      "model_module": "@jupyter-widgets/base",
      "model_module_version": "1.1.0",
      "model_name": "LayoutModel",
      "state": {}
     },
     "b86588f30f8e4d849d504ab1ebe4a7b1": {
      "model_module": "@jupyter-widgets/controls",
      "model_module_version": "1.4.0",
      "model_name": "RadioButtonsModel",
      "state": {
       "_options_labels": [
        "Observational",
        "Theoretical",
        "Other:"
       ],
       "index": 0,
       "layout": "IPY_MODEL_6fb4e79e3a30405ebb68e61dbccbef46",
       "style": "IPY_MODEL_6de56854d022456bbfe987c451cc1fc7"
      }
     },
     "b8ff22dbd9ba49809bbaa31d43fc15d2": {
      "model_module": "@jupyter-widgets/output",
      "model_module_version": "1.0.0",
      "model_name": "OutputModel",
      "state": {
       "layout": "IPY_MODEL_a7b1aff0b1984753978b93ad74adcdfb"
      }
     },
     "baf766f2a73044df9d18e63bb0cd3dc8": {
      "model_module": "@jupyter-widgets/controls",
      "model_module_version": "1.4.0",
      "model_name": "DescriptionStyleModel",
      "state": {
       "description_width": ""
      }
     },
     "bd5e4a9a483f44f1be0364042cd871ba": {
      "model_module": "@jupyter-widgets/controls",
      "model_module_version": "1.4.0",
      "model_name": "ButtonStyleModel",
      "state": {}
     },
     "bfc5eb931f224fa0922de2eaf86d6d15": {
      "model_module": "@jupyter-widgets/base",
      "model_module_version": "1.1.0",
      "model_name": "LayoutModel",
      "state": {}
     },
     "c0ef9715bbb84564b5e55681d69714af": {
      "model_module": "@jupyter-widgets/controls",
      "model_module_version": "1.4.0",
      "model_name": "ButtonModel",
      "state": {
       "button_style": "success",
       "description": "Submit",
       "icon": "check",
       "layout": "IPY_MODEL_b839b27c741e41bab54ba52317448edd",
       "style": "IPY_MODEL_cd8a016d01634526b4e8a6a3eccd489f",
       "tooltip": "Submit answers"
      }
     },
     "c20ea293757040fc9e6171d9ba72d376": {
      "model_module": "@jupyter-widgets/output",
      "model_module_version": "1.0.0",
      "model_name": "OutputModel",
      "state": {
       "layout": "IPY_MODEL_1d30cc6089ee4f4c985d34adb61708aa"
      }
     },
     "c4c8008554364e6ea63227bb6cd1cdc3": {
      "model_module": "@jupyter-widgets/base",
      "model_module_version": "1.1.0",
      "model_name": "LayoutModel",
      "state": {}
     },
     "ca08bdf0141d47d8af257196e808c7e5": {
      "model_module": "@jupyter-widgets/controls",
      "model_module_version": "1.4.0",
      "model_name": "DescriptionStyleModel",
      "state": {
       "description_width": ""
      }
     },
     "cd8a016d01634526b4e8a6a3eccd489f": {
      "model_module": "@jupyter-widgets/controls",
      "model_module_version": "1.4.0",
      "model_name": "ButtonStyleModel",
      "state": {}
     },
     "d48069e2eb61475d93091fa79e2c99ec": {
      "model_module": "@jupyter-widgets/controls",
      "model_module_version": "1.4.0",
      "model_name": "DescriptionStyleModel",
      "state": {
       "description_width": ""
      }
     },
     "d7020184896045fd89b63240ef6d7db7": {
      "model_module": "@jupyter-widgets/base",
      "model_module_version": "1.1.0",
      "model_name": "LayoutModel",
      "state": {}
     },
     "dfb078eafe214d1b8117f2fc5e608ce2": {
      "model_module": "@jupyter-widgets/controls",
      "model_module_version": "1.4.0",
      "model_name": "DescriptionStyleModel",
      "state": {
       "description_width": ""
      }
     },
     "e0c6182badbc4d1c84e0237fd79f1e4c": {
      "model_module": "@jupyter-widgets/controls",
      "model_module_version": "1.4.0",
      "model_name": "ButtonModel",
      "state": {
       "button_style": "success",
       "description": "Submit",
       "icon": "check",
       "layout": "IPY_MODEL_8cbe05866dc0472a8c8ef6aeb5bcd73e",
       "style": "IPY_MODEL_bd5e4a9a483f44f1be0364042cd871ba",
       "tooltip": "Submit answers"
      }
     },
     "e45285436c834c8e96b116df98822f53": {
      "model_module": "@jupyter-widgets/base",
      "model_module_version": "1.1.0",
      "model_name": "LayoutModel",
      "state": {}
     },
     "e486a1e2d48841cf873c2e626f18ffff": {
      "model_module": "@jupyter-widgets/controls",
      "model_module_version": "1.4.0",
      "model_name": "ButtonStyleModel",
      "state": {}
     },
     "e4c2f20c26f14d7ba9b93b9b6c427379": {
      "model_module": "@jupyter-widgets/controls",
      "model_module_version": "1.4.0",
      "model_name": "DescriptionStyleModel",
      "state": {
       "description_width": ""
      }
     },
     "e75b995b93dc40f78a60fd52b742049f": {
      "model_module": "@jupyter-widgets/base",
      "model_module_version": "1.1.0",
      "model_name": "LayoutModel",
      "state": {}
     },
     "ea3aba12abd940208faecc20cd6832ff": {
      "model_module": "@jupyter-widgets/base",
      "model_module_version": "1.1.0",
      "model_name": "LayoutModel",
      "state": {}
     },
     "f3d781c2de63475ab41b267660e6f1f3": {
      "model_module": "@jupyter-widgets/base",
      "model_module_version": "1.1.0",
      "model_name": "LayoutModel",
      "state": {}
     },
     "f752fc37c3a7415dba09ade78db3668d": {
      "model_module": "@jupyter-widgets/controls",
      "model_module_version": "1.4.0",
      "model_name": "TextModel",
      "state": {
       "layout": "IPY_MODEL_798f996cfa4b464eaffa53c313dc0ffb",
       "placeholder": "Answer",
       "style": "IPY_MODEL_baf766f2a73044df9d18e63bb0cd3dc8"
      }
     },
     "fda1d209336c4986a89b3ee9e8a1ad5d": {
      "model_module": "@jupyter-widgets/controls",
      "model_module_version": "1.4.0",
      "model_name": "TextModel",
      "state": {
       "layout": "IPY_MODEL_98282ea7547f4f5e9ab5e70da6cb3bcd",
       "placeholder": "Answer",
       "style": "IPY_MODEL_98a9e014f3ff4eddb62ea7ec5ad0cd4b"
      }
     },
     "fe94f4b0dd324f408df9456806e3843f": {
      "model_module": "@jupyter-widgets/output",
      "model_module_version": "1.0.0",
      "model_name": "OutputModel",
      "state": {
       "layout": "IPY_MODEL_0c95469fa39b46c5ae7a6da9100654c4"
      }
     }
    },
    "version_major": 2,
    "version_minor": 0
   }
  }
 },
 "nbformat": 4,
 "nbformat_minor": 2
}
