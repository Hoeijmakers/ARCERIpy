{
 "cells": [
  {
   "cell_type": "code",
   "execution_count": 1,
   "metadata": {
    "scrolled": true
   },
   "outputs": [
    {
     "data": {
      "text/html": [
       "<script>\n",
       "    // AUTORUN ALL CELLS ON NOTEBOOK-LOAD!\n",
       "    require(\n",
       "        ['base/js/namespace', 'jquery'], \n",
       "        function(jupyter, $) {\n",
       "            $(jupyter.events).on(\"kernel_ready.Kernel\", function () {\n",
       "                console.log(\"Auto-running all cells-below...\");\n",
       "                jupyter.actions.call('jupyter-notebook:run-all-cells-below');\n",
       "                console.log(\"Double tap.\");\n",
       "                jupyter.actions.call('jupyter-notebook:run-all-cells-below');\n",
       "                jupyter.actions.call('jupyter-notebook:save-notebook');\n",
       "            });\n",
       "        }\n",
       "    );\n",
       "</script>\n"
      ],
      "text/plain": [
       "<IPython.core.display.HTML object>"
      ]
     },
     "metadata": {},
     "output_type": "display_data"
    }
   ],
   "source": [
    "%%html\n",
    "<script>\n",
    "    // AUTORUN ALL CELLS ON NOTEBOOK-LOAD!\n",
    "    require(\n",
    "        ['base/js/namespace', 'jquery'], \n",
    "        function(jupyter, $) {\n",
    "            $(jupyter.events).on(\"kernel_ready.Kernel\", function () {\n",
    "                console.log(\"Auto-running all cells-below...\");\n",
    "                jupyter.actions.call('jupyter-notebook:run-all-cells-below');\n",
    "                console.log(\"Double tap.\");\n",
    "                jupyter.actions.call('jupyter-notebook:run-all-cells-below');\n",
    "                jupyter.actions.call('jupyter-notebook:save-notebook');\n",
    "            });\n",
    "        }\n",
    "    );\n",
    "</script>"
   ]
  },
  {
   "cell_type": "markdown",
   "metadata": {},
   "source": [
    "# This is a test for doing input in a Notebook as if it was a form."
   ]
  },
  {
   "cell_type": "code",
   "execution_count": 2,
   "metadata": {
    "scrolled": false
   },
   "outputs": [
    {
     "data": {
      "text/markdown": [
       "Question 1"
      ],
      "text/plain": [
       "<IPython.core.display.Markdown object>"
      ]
     },
     "metadata": {},
     "output_type": "display_data"
    },
    {
     "data": {
      "application/vnd.jupyter.widget-view+json": {
       "model_id": "e4ebf08df17941f3b456a2894d082545",
       "version_major": 2,
       "version_minor": 0
      },
      "text/plain": [
       "Text(value='', placeholder='Answer')"
      ]
     },
     "metadata": {},
     "output_type": "display_data"
    },
    {
     "data": {
      "text/markdown": [
       "Question 2"
      ],
      "text/plain": [
       "<IPython.core.display.Markdown object>"
      ]
     },
     "metadata": {},
     "output_type": "display_data"
    },
    {
     "data": {
      "application/vnd.jupyter.widget-view+json": {
       "model_id": "a4e8d5ea20b1463da30f9f66410c82a1",
       "version_major": 2,
       "version_minor": 0
      },
      "text/plain": [
       "Text(value='', placeholder='Answer')"
      ]
     },
     "metadata": {},
     "output_type": "display_data"
    },
    {
     "data": {
      "text/markdown": [
       "Question 3"
      ],
      "text/plain": [
       "<IPython.core.display.Markdown object>"
      ]
     },
     "metadata": {},
     "output_type": "display_data"
    },
    {
     "data": {
      "application/vnd.jupyter.widget-view+json": {
       "model_id": "7c86760a342045fbb73c95e578c6362b",
       "version_major": 2,
       "version_minor": 0
      },
      "text/plain": [
       "Text(value='', placeholder='Answer')"
      ]
     },
     "metadata": {},
     "output_type": "display_data"
    },
    {
     "data": {
      "text/markdown": [
       "Question 4"
      ],
      "text/plain": [
       "<IPython.core.display.Markdown object>"
      ]
     },
     "metadata": {},
     "output_type": "display_data"
    },
    {
     "data": {
      "application/vnd.jupyter.widget-view+json": {
       "model_id": "0bbe0cec74d8436bb7e55f4a05b2bc5c",
       "version_major": 2,
       "version_minor": 0
      },
      "text/plain": [
       "Text(value='', placeholder='Answer')"
      ]
     },
     "metadata": {},
     "output_type": "display_data"
    },
    {
     "data": {
      "text/markdown": [
       "Check some of these boxes please."
      ],
      "text/plain": [
       "<IPython.core.display.Markdown object>"
      ]
     },
     "metadata": {},
     "output_type": "display_data"
    },
    {
     "data": {
      "application/vnd.jupyter.widget-view+json": {
       "model_id": "18fbaa9b7fc3489689cba0b098814109",
       "version_major": 2,
       "version_minor": 0
      },
      "text/plain": [
       "HBox(children=(VBox(children=(Checkbox(value=False, description='a'), Checkbox(value=False, description='b'), …"
      ]
     },
     "metadata": {},
     "output_type": "display_data"
    },
    {
     "data": {
      "text/markdown": [
       "Oh no, still you need to fill this in:"
      ],
      "text/plain": [
       "<IPython.core.display.Markdown object>"
      ]
     },
     "metadata": {},
     "output_type": "display_data"
    },
    {
     "data": {
      "application/vnd.jupyter.widget-view+json": {
       "model_id": "fbd1c7435def4c4da8f7d22c27a51d2e",
       "version_major": 2,
       "version_minor": 0
      },
      "text/plain": [
       "RadioButtons(options=('Observational', 'Theoretical', 'Other:'), value='Observational')"
      ]
     },
     "metadata": {},
     "output_type": "display_data"
    },
    {
     "data": {
      "application/vnd.jupyter.widget-view+json": {
       "model_id": "e143d6562ba246f2bdc605bcf0efb9bc",
       "version_major": 2,
       "version_minor": 0
      },
      "text/plain": [
       "Text(value='', disabled=True, placeholder='Answer')"
      ]
     },
     "metadata": {},
     "output_type": "display_data"
    },
    {
     "data": {
      "application/vnd.jupyter.widget-view+json": {
       "model_id": "bd2b92b153964e40865c852dbc2cd9dd",
       "version_major": 2,
       "version_minor": 0
      },
      "text/plain": [
       "Button(button_style='success', description='Submit', icon='check', style=ButtonStyle(), tooltip='Submit answer…"
      ]
     },
     "metadata": {},
     "output_type": "display_data"
    }
   ],
   "source": [
    "import ipywidgets as widgets\n",
    "from ipywidgets import Button, HBox, VBox\n",
    "from IPython.display import display, Markdown, Latex, HTML\n",
    "import os.path as path\n",
    "import math\n",
    "output = widgets.Output()\n",
    "\n",
    "q1 = widgets.Text(placeholder='Answer', disabled=False)\n",
    "q2 = widgets.Text(placeholder='Answer', disabled=False)\n",
    "q3 = widgets.Text(placeholder='Answer', disabled=False)\n",
    "q4 = widgets.Text(placeholder='Answer', disabled=False)\n",
    "q5 = widgets.Text(placeholder='Answer', disabled=True)\n",
    "\n",
    "\n",
    "\n",
    "#The following determines the behaviour of the keywords selector:\n",
    "ncol_max = 4  #4 columns\n",
    "nrow_min = 2  #start with 4 rows minimum before populating the other columns.\n",
    "\n",
    "\n",
    "keywords = ['a','b','c','d','e','f','g','h','i','j','k','l','m','n','o','p','q','r','s','t','u']#read_keywords()\n",
    "checkboxes = []\n",
    "N_keywords = len(keywords)\n",
    "nrow = max([nrow_min,math.ceil(N_keywords/ncol_max)])#Based on the number of keywords, determine the number of rows and columsn\n",
    "ncol = min([ncol_max,math.ceil(N_keywords/nrow)])\n",
    "\n",
    "M=[[]]#This will be built up with the grid.\n",
    "for kw in keywords:\n",
    "    checkboxes.append(widgets.Checkbox(value=False,description=kw,disabled=False))\n",
    "\n",
    "col = 0\n",
    "for i,item in enumerate(checkboxes):\n",
    "    if (i % nrow) == 0 and i != 0:\n",
    "        M.append([])\n",
    "        col+=1 \n",
    "    M[col].append(item)\n",
    " \n",
    "            \n",
    "VBoxes = []\n",
    "for col in M:\n",
    "    VBoxes.append(VBox(col))\n",
    "keyword_matrix = HBox(VBoxes)\n",
    "# left_box = VBox([items[0], items[1]])\n",
    "# right_box = VBox([items[2], items[3]])\n",
    "#HBox([left_box, right_box,right_box])\n",
    "\n",
    "\n",
    "\n",
    "\n",
    "\n",
    "type_radio = widgets.RadioButtons(options=['Observational', 'Theoretical', 'Other:'],description='',disabled=False)\n",
    "\n",
    "def disabler(event):\n",
    "    if type_radio.value == 'Other:':\n",
    "        q5.set_trait('disabled',False)\n",
    "    else:\n",
    "        q5.set_trait('disabled',True)\n",
    "def submit(event):\n",
    "    if type_radio.value == 'Other:':\n",
    "        papertype = q5.value\n",
    "        add_papertype(papertype)\n",
    "    else:\n",
    "        papertype = type_radio.value\n",
    "    outline = [q1.value,q2.value,q3.value,q4.value,papertype]\n",
    "    if path.exist('references.csv'):\n",
    "        print('ok')\n",
    "    print('Submit form to file:')\n",
    "    print(q1.value)\n",
    "    print(q2.value)\n",
    "    print(type_radio.value)\n",
    "submit_button = widgets.Button(value=False,description='Submit',disabled=False,button_style='success', # 'success', 'info', 'warning', 'danger' or ''\n",
    "                     tooltip='Submit answers',icon='check')\n",
    "submit_button.on_click(submit)\n",
    "type_radio.observe(disabler)\n",
    "\n",
    "display(Markdown('Question 1'))\n",
    "display(q1)\n",
    "display(Markdown('Question 2'))\n",
    "display(q2)\n",
    "display(Markdown('Question 3'))\n",
    "display(q3)\n",
    "display(Markdown('Question 4'))\n",
    "display(q4)\n",
    "display(Markdown('Check some of these boxes please.'))\n",
    "display(keyword_matrix)\n",
    "display(Markdown('Oh no, still you need to fill this in:'))\n",
    "display(type_radio)\n",
    "display(q5)\n",
    "display(submit_button)"
   ]
  },
  {
   "cell_type": "code",
   "execution_count": 4,
   "metadata": {
    "scrolled": true
   },
   "outputs": [
    {
     "data": {
      "text/html": [
       "\n",
       "<script>\n",
       "code_show=true; \n",
       "function code_toggle() {\n",
       " if (code_show){\n",
       " $('div.input').hide();\n",
       " } else {\n",
       " $('div.input').show();\n",
       " }\n",
       " code_show = !code_show\n",
       "} \n",
       "$( document ).ready(code_toggle);\n",
       "</script>\n",
       "The source code for this IPython notebook is hidden.\n",
       "To view the source code, <a href=\"javascript:code_toggle()\">click here</a>."
      ],
      "text/plain": [
       "<IPython.core.display.HTML object>"
      ]
     },
     "execution_count": 4,
     "metadata": {},
     "output_type": "execute_result"
    }
   ],
   "source": [
    "HTML('''\n",
    "<script>\n",
    "code_show=true; \n",
    "function code_toggle() {\n",
    " if (code_show){\n",
    " $('div.input').hide();\n",
    " } else {\n",
    " $('div.input').show();\n",
    " }\n",
    " code_show = !code_show\n",
    "} \n",
    "$( document ).ready(code_toggle);\n",
    "</script>\n",
    "The source code for this IPython notebook is hidden.\n",
    "To view the source code, <a href=\"javascript:code_toggle()\">click here</a>.''')"
   ]
  }
 ],
 "metadata": {
  "kernelspec": {
   "display_name": "Python 3",
   "language": "python",
   "name": "python3"
  },
  "language_info": {
   "codemirror_mode": {
    "name": "ipython",
    "version": 3
   },
   "file_extension": ".py",
   "mimetype": "text/x-python",
   "name": "python",
   "nbconvert_exporter": "python",
   "pygments_lexer": "ipython3",
   "version": "3.6.4"
  },
  "widgets": {
   "application/vnd.jupyter.widget-state+json": {
    "state": {
     "00358c9db80741c4b59efc1bfcf3c5b9": {
      "model_module": "@jupyter-widgets/controls",
      "model_module_version": "1.4.0",
      "model_name": "TextModel",
      "state": {
       "disabled": true,
       "layout": "IPY_MODEL_3183110b21ae4f2cb48ceca1d51d7df7",
       "placeholder": "Answer",
       "style": "IPY_MODEL_dfb078eafe214d1b8117f2fc5e608ce2"
      }
     },
     "01a6c5ecd2214dc3835c0c01d8287007": {
      "model_module": "@jupyter-widgets/controls",
      "model_module_version": "1.4.0",
      "model_name": "RadioButtonsModel",
      "state": {
       "_options_labels": [
        "Observational",
        "Theoretical",
        "Other:"
       ],
       "index": 0,
       "layout": "IPY_MODEL_e45285436c834c8e96b116df98822f53",
       "style": "IPY_MODEL_d48069e2eb61475d93091fa79e2c99ec"
      }
     },
     "03eac3e2434f4720a9d1bda9af698ffe": {
      "model_module": "@jupyter-widgets/controls",
      "model_module_version": "1.4.0",
      "model_name": "TextModel",
      "state": {
       "layout": "IPY_MODEL_9f10c28e1fe8456faacbb3c2662cc656",
       "placeholder": "Answer",
       "style": "IPY_MODEL_6b65e707f9014ef4ac6e759683742a33"
      }
     },
     "04db1d976fe3482e983893b9675ca4de": {
      "model_module": "@jupyter-widgets/base",
      "model_module_version": "1.1.0",
      "model_name": "LayoutModel",
      "state": {}
     },
     "09856e4eee9e4d15b41246e42201f022": {
      "model_module": "@jupyter-widgets/base",
      "model_module_version": "1.1.0",
      "model_name": "LayoutModel",
      "state": {}
     },
     "0b24e585238146b382db83efa8d0b0e1": {
      "model_module": "@jupyter-widgets/controls",
      "model_module_version": "1.4.0",
      "model_name": "DescriptionStyleModel",
      "state": {
       "description_width": ""
      }
     },
     "0c95469fa39b46c5ae7a6da9100654c4": {
      "model_module": "@jupyter-widgets/base",
      "model_module_version": "1.1.0",
      "model_name": "LayoutModel",
      "state": {}
     },
     "0e09407264814fc0b81cef3b0db785fc": {
      "model_module": "@jupyter-widgets/controls",
      "model_module_version": "1.4.0",
      "model_name": "DescriptionStyleModel",
      "state": {
       "description_width": ""
      }
     },
     "11c8b896cba64a15ab09669cfcf6feb0": {
      "model_module": "@jupyter-widgets/controls",
      "model_module_version": "1.4.0",
      "model_name": "DescriptionStyleModel",
      "state": {
       "description_width": ""
      }
     },
     "12115b52f02f468d9efba59b1310efa1": {
      "model_module": "@jupyter-widgets/controls",
      "model_module_version": "1.4.0",
      "model_name": "TextModel",
      "state": {
       "layout": "IPY_MODEL_f3d781c2de63475ab41b267660e6f1f3",
       "placeholder": "Answer",
       "style": "IPY_MODEL_0e09407264814fc0b81cef3b0db785fc"
      }
     },
     "1d30cc6089ee4f4c985d34adb61708aa": {
      "model_module": "@jupyter-widgets/base",
      "model_module_version": "1.1.0",
      "model_name": "LayoutModel",
      "state": {}
     },
     "2023c7adfb1c474dac65c262ac9d1a8e": {
      "model_module": "@jupyter-widgets/base",
      "model_module_version": "1.1.0",
      "model_name": "LayoutModel",
      "state": {}
     },
     "203469c5fd954ca9811bd51c36e284fb": {
      "model_module": "@jupyter-widgets/base",
      "model_module_version": "1.1.0",
      "model_name": "LayoutModel",
      "state": {}
     },
     "25b615d6a5324d02ba21acd7cb8bba62": {
      "model_module": "@jupyter-widgets/base",
      "model_module_version": "1.1.0",
      "model_name": "LayoutModel",
      "state": {}
     },
     "2774bcb8e88343cbbe881aa089616d7c": {
      "model_module": "@jupyter-widgets/base",
      "model_module_version": "1.1.0",
      "model_name": "LayoutModel",
      "state": {}
     },
     "2be2008df6714334a0f1c480c4e888dc": {
      "model_module": "@jupyter-widgets/controls",
      "model_module_version": "1.4.0",
      "model_name": "ButtonModel",
      "state": {
       "button_style": "success",
       "description": "Submit",
       "icon": "check",
       "layout": "IPY_MODEL_ea3aba12abd940208faecc20cd6832ff",
       "style": "IPY_MODEL_e486a1e2d48841cf873c2e626f18ffff",
       "tooltip": "Submit answers"
      }
     },
     "2e4e44e0eed940119a9d7c9fcaf501dd": {
      "model_module": "@jupyter-widgets/controls",
      "model_module_version": "1.4.0",
      "model_name": "DescriptionStyleModel",
      "state": {
       "description_width": ""
      }
     },
     "2f22389dacbc418fac9bbb8fd086b472": {
      "model_module": "@jupyter-widgets/controls",
      "model_module_version": "1.4.0",
      "model_name": "DescriptionStyleModel",
      "state": {
       "description_width": ""
      }
     },
     "3183110b21ae4f2cb48ceca1d51d7df7": {
      "model_module": "@jupyter-widgets/base",
      "model_module_version": "1.1.0",
      "model_name": "LayoutModel",
      "state": {}
     },
     "37a3d5eaa4204cc58eb340e28a18e71c": {
      "model_module": "@jupyter-widgets/controls",
      "model_module_version": "1.4.0",
      "model_name": "DescriptionStyleModel",
      "state": {
       "description_width": ""
      }
     },
     "447afebcc12f40bab0eea0945b62cc3c": {
      "model_module": "@jupyter-widgets/controls",
      "model_module_version": "1.4.0",
      "model_name": "RadioButtonsModel",
      "state": {
       "_options_labels": [
        "Observational",
        "Theoretical",
        "Other:"
       ],
       "index": 0,
       "layout": "IPY_MODEL_bfc5eb931f224fa0922de2eaf86d6d15",
       "style": "IPY_MODEL_37a3d5eaa4204cc58eb340e28a18e71c"
      }
     },
     "52b27bacf452440aa2e8281491b47fa6": {
      "model_module": "@jupyter-widgets/controls",
      "model_module_version": "1.4.0",
      "model_name": "TextModel",
      "state": {
       "layout": "IPY_MODEL_c4c8008554364e6ea63227bb6cd1cdc3",
       "placeholder": "Answer",
       "style": "IPY_MODEL_2e4e44e0eed940119a9d7c9fcaf501dd"
      }
     },
     "535106ae0b3241608f5e7d144c79de27": {
      "model_module": "@jupyter-widgets/controls",
      "model_module_version": "1.4.0",
      "model_name": "TextModel",
      "state": {
       "layout": "IPY_MODEL_e75b995b93dc40f78a60fd52b742049f",
       "placeholder": "Answer",
       "style": "IPY_MODEL_0b24e585238146b382db83efa8d0b0e1"
      }
     },
     "54448798b4f44cbb890a9fe98ff8679a": {
      "model_module": "@jupyter-widgets/controls",
      "model_module_version": "1.4.0",
      "model_name": "TextModel",
      "state": {
       "layout": "IPY_MODEL_09856e4eee9e4d15b41246e42201f022",
       "placeholder": "Answer",
       "style": "IPY_MODEL_ca08bdf0141d47d8af257196e808c7e5"
      }
     },
     "5d4a0d4b97f34ad4b8ffb0969a543e5f": {
      "model_module": "@jupyter-widgets/controls",
      "model_module_version": "1.4.0",
      "model_name": "DescriptionStyleModel",
      "state": {
       "description_width": ""
      }
     },
     "5fafd6cf8e11458aa5d4837a3837410a": {
      "model_module": "@jupyter-widgets/controls",
      "model_module_version": "1.4.0",
      "model_name": "TextModel",
      "state": {
       "layout": "IPY_MODEL_2023c7adfb1c474dac65c262ac9d1a8e",
       "placeholder": "Answer",
       "style": "IPY_MODEL_11c8b896cba64a15ab09669cfcf6feb0"
      }
     },
     "655b360a706949119757acadde74f427": {
      "model_module": "@jupyter-widgets/controls",
      "model_module_version": "1.4.0",
      "model_name": "DescriptionStyleModel",
      "state": {
       "description_width": ""
      }
     },
     "6b65e707f9014ef4ac6e759683742a33": {
      "model_module": "@jupyter-widgets/controls",
      "model_module_version": "1.4.0",
      "model_name": "DescriptionStyleModel",
      "state": {
       "description_width": ""
      }
     },
     "6de56854d022456bbfe987c451cc1fc7": {
      "model_module": "@jupyter-widgets/controls",
      "model_module_version": "1.4.0",
      "model_name": "DescriptionStyleModel",
      "state": {
       "description_width": ""
      }
     },
     "6fb4e79e3a30405ebb68e61dbccbef46": {
      "model_module": "@jupyter-widgets/base",
      "model_module_version": "1.1.0",
      "model_name": "LayoutModel",
      "state": {}
     },
     "70567ef2c6fd4ec09ddf2ea89c169a11": {
      "model_module": "@jupyter-widgets/controls",
      "model_module_version": "1.4.0",
      "model_name": "TextModel",
      "state": {
       "layout": "IPY_MODEL_203469c5fd954ca9811bd51c36e284fb",
       "placeholder": "Answer",
       "style": "IPY_MODEL_7fc28bc1f086419aacc9d81e79ac69a7"
      }
     },
     "72513335272f4754b189449818044bb5": {
      "model_module": "@jupyter-widgets/controls",
      "model_module_version": "1.4.0",
      "model_name": "TextModel",
      "state": {
       "layout": "IPY_MODEL_04db1d976fe3482e983893b9675ca4de",
       "placeholder": "Answer",
       "style": "IPY_MODEL_72ca5d69e01f4a6299d29eff85aba9dd"
      }
     },
     "72ca5d69e01f4a6299d29eff85aba9dd": {
      "model_module": "@jupyter-widgets/controls",
      "model_module_version": "1.4.0",
      "model_name": "DescriptionStyleModel",
      "state": {
       "description_width": ""
      }
     },
     "72eb4608806943f1b8a0b9eb0ff519fa": {
      "model_module": "@jupyter-widgets/base",
      "model_module_version": "1.1.0",
      "model_name": "LayoutModel",
      "state": {}
     },
     "798f996cfa4b464eaffa53c313dc0ffb": {
      "model_module": "@jupyter-widgets/base",
      "model_module_version": "1.1.0",
      "model_name": "LayoutModel",
      "state": {}
     },
     "7d722cc40098454ba7f8656f34c3a049": {
      "model_module": "@jupyter-widgets/controls",
      "model_module_version": "1.4.0",
      "model_name": "TextModel",
      "state": {
       "disabled": true,
       "layout": "IPY_MODEL_25b615d6a5324d02ba21acd7cb8bba62",
       "placeholder": "Answer",
       "style": "IPY_MODEL_655b360a706949119757acadde74f427"
      }
     },
     "7fc28bc1f086419aacc9d81e79ac69a7": {
      "model_module": "@jupyter-widgets/controls",
      "model_module_version": "1.4.0",
      "model_name": "DescriptionStyleModel",
      "state": {
       "description_width": ""
      }
     },
     "8cbe05866dc0472a8c8ef6aeb5bcd73e": {
      "model_module": "@jupyter-widgets/base",
      "model_module_version": "1.1.0",
      "model_name": "LayoutModel",
      "state": {}
     },
     "98282ea7547f4f5e9ab5e70da6cb3bcd": {
      "model_module": "@jupyter-widgets/base",
      "model_module_version": "1.1.0",
      "model_name": "LayoutModel",
      "state": {}
     },
     "98a9e014f3ff4eddb62ea7ec5ad0cd4b": {
      "model_module": "@jupyter-widgets/controls",
      "model_module_version": "1.4.0",
      "model_name": "DescriptionStyleModel",
      "state": {
       "description_width": ""
      }
     },
     "9f10c28e1fe8456faacbb3c2662cc656": {
      "model_module": "@jupyter-widgets/base",
      "model_module_version": "1.1.0",
      "model_name": "LayoutModel",
      "state": {}
     },
     "a770b1f8e3ac48a6bc0a9fec88a62a65": {
      "model_module": "@jupyter-widgets/controls",
      "model_module_version": "1.4.0",
      "model_name": "TextModel",
      "state": {
       "layout": "IPY_MODEL_2774bcb8e88343cbbe881aa089616d7c",
       "placeholder": "Answer",
       "style": "IPY_MODEL_5d4a0d4b97f34ad4b8ffb0969a543e5f"
      }
     },
     "a7b1aff0b1984753978b93ad74adcdfb": {
      "model_module": "@jupyter-widgets/base",
      "model_module_version": "1.1.0",
      "model_name": "LayoutModel",
      "state": {}
     },
     "a99d086d46264115bc8316a894cb60ed": {
      "model_module": "@jupyter-widgets/controls",
      "model_module_version": "1.4.0",
      "model_name": "TextModel",
      "state": {
       "layout": "IPY_MODEL_72eb4608806943f1b8a0b9eb0ff519fa",
       "placeholder": "Answer",
       "style": "IPY_MODEL_2f22389dacbc418fac9bbb8fd086b472"
      }
     },
     "b65845822d3448d88945dca308db77d5": {
      "model_module": "@jupyter-widgets/controls",
      "model_module_version": "1.4.0",
      "model_name": "TextModel",
      "state": {
       "disabled": true,
       "layout": "IPY_MODEL_d7020184896045fd89b63240ef6d7db7",
       "placeholder": "Answer",
       "style": "IPY_MODEL_e4c2f20c26f14d7ba9b93b9b6c427379"
      }
     },
     "b839b27c741e41bab54ba52317448edd": {
      "model_module": "@jupyter-widgets/base",
      "model_module_version": "1.1.0",
      "model_name": "LayoutModel",
      "state": {}
     },
     "b86588f30f8e4d849d504ab1ebe4a7b1": {
      "model_module": "@jupyter-widgets/controls",
      "model_module_version": "1.4.0",
      "model_name": "RadioButtonsModel",
      "state": {
       "_options_labels": [
        "Observational",
        "Theoretical",
        "Other:"
       ],
       "index": 0,
       "layout": "IPY_MODEL_6fb4e79e3a30405ebb68e61dbccbef46",
       "style": "IPY_MODEL_6de56854d022456bbfe987c451cc1fc7"
      }
     },
     "b8ff22dbd9ba49809bbaa31d43fc15d2": {
      "model_module": "@jupyter-widgets/output",
      "model_module_version": "1.0.0",
      "model_name": "OutputModel",
      "state": {
       "layout": "IPY_MODEL_a7b1aff0b1984753978b93ad74adcdfb"
      }
     },
     "baf766f2a73044df9d18e63bb0cd3dc8": {
      "model_module": "@jupyter-widgets/controls",
      "model_module_version": "1.4.0",
      "model_name": "DescriptionStyleModel",
      "state": {
       "description_width": ""
      }
     },
     "bd5e4a9a483f44f1be0364042cd871ba": {
      "model_module": "@jupyter-widgets/controls",
      "model_module_version": "1.4.0",
      "model_name": "ButtonStyleModel",
      "state": {}
     },
     "bfc5eb931f224fa0922de2eaf86d6d15": {
      "model_module": "@jupyter-widgets/base",
      "model_module_version": "1.1.0",
      "model_name": "LayoutModel",
      "state": {}
     },
     "c0ef9715bbb84564b5e55681d69714af": {
      "model_module": "@jupyter-widgets/controls",
      "model_module_version": "1.4.0",
      "model_name": "ButtonModel",
      "state": {
       "button_style": "success",
       "description": "Submit",
       "icon": "check",
       "layout": "IPY_MODEL_b839b27c741e41bab54ba52317448edd",
       "style": "IPY_MODEL_cd8a016d01634526b4e8a6a3eccd489f",
       "tooltip": "Submit answers"
      }
     },
     "c20ea293757040fc9e6171d9ba72d376": {
      "model_module": "@jupyter-widgets/output",
      "model_module_version": "1.0.0",
      "model_name": "OutputModel",
      "state": {
       "layout": "IPY_MODEL_1d30cc6089ee4f4c985d34adb61708aa"
      }
     },
     "c4c8008554364e6ea63227bb6cd1cdc3": {
      "model_module": "@jupyter-widgets/base",
      "model_module_version": "1.1.0",
      "model_name": "LayoutModel",
      "state": {}
     },
     "ca08bdf0141d47d8af257196e808c7e5": {
      "model_module": "@jupyter-widgets/controls",
      "model_module_version": "1.4.0",
      "model_name": "DescriptionStyleModel",
      "state": {
       "description_width": ""
      }
     },
     "cd8a016d01634526b4e8a6a3eccd489f": {
      "model_module": "@jupyter-widgets/controls",
      "model_module_version": "1.4.0",
      "model_name": "ButtonStyleModel",
      "state": {}
     },
     "d48069e2eb61475d93091fa79e2c99ec": {
      "model_module": "@jupyter-widgets/controls",
      "model_module_version": "1.4.0",
      "model_name": "DescriptionStyleModel",
      "state": {
       "description_width": ""
      }
     },
     "d7020184896045fd89b63240ef6d7db7": {
      "model_module": "@jupyter-widgets/base",
      "model_module_version": "1.1.0",
      "model_name": "LayoutModel",
      "state": {}
     },
     "dfb078eafe214d1b8117f2fc5e608ce2": {
      "model_module": "@jupyter-widgets/controls",
      "model_module_version": "1.4.0",
      "model_name": "DescriptionStyleModel",
      "state": {
       "description_width": ""
      }
     },
     "e0c6182badbc4d1c84e0237fd79f1e4c": {
      "model_module": "@jupyter-widgets/controls",
      "model_module_version": "1.4.0",
      "model_name": "ButtonModel",
      "state": {
       "button_style": "success",
       "description": "Submit",
       "icon": "check",
       "layout": "IPY_MODEL_8cbe05866dc0472a8c8ef6aeb5bcd73e",
       "style": "IPY_MODEL_bd5e4a9a483f44f1be0364042cd871ba",
       "tooltip": "Submit answers"
      }
     },
     "e45285436c834c8e96b116df98822f53": {
      "model_module": "@jupyter-widgets/base",
      "model_module_version": "1.1.0",
      "model_name": "LayoutModel",
      "state": {}
     },
     "e486a1e2d48841cf873c2e626f18ffff": {
      "model_module": "@jupyter-widgets/controls",
      "model_module_version": "1.4.0",
      "model_name": "ButtonStyleModel",
      "state": {}
     },
     "e4c2f20c26f14d7ba9b93b9b6c427379": {
      "model_module": "@jupyter-widgets/controls",
      "model_module_version": "1.4.0",
      "model_name": "DescriptionStyleModel",
      "state": {
       "description_width": ""
      }
     },
     "e75b995b93dc40f78a60fd52b742049f": {
      "model_module": "@jupyter-widgets/base",
      "model_module_version": "1.1.0",
      "model_name": "LayoutModel",
      "state": {}
     },
     "ea3aba12abd940208faecc20cd6832ff": {
      "model_module": "@jupyter-widgets/base",
      "model_module_version": "1.1.0",
      "model_name": "LayoutModel",
      "state": {}
     },
     "f3d781c2de63475ab41b267660e6f1f3": {
      "model_module": "@jupyter-widgets/base",
      "model_module_version": "1.1.0",
      "model_name": "LayoutModel",
      "state": {}
     },
     "f752fc37c3a7415dba09ade78db3668d": {
      "model_module": "@jupyter-widgets/controls",
      "model_module_version": "1.4.0",
      "model_name": "TextModel",
      "state": {
       "layout": "IPY_MODEL_798f996cfa4b464eaffa53c313dc0ffb",
       "placeholder": "Answer",
       "style": "IPY_MODEL_baf766f2a73044df9d18e63bb0cd3dc8"
      }
     },
     "fda1d209336c4986a89b3ee9e8a1ad5d": {
      "model_module": "@jupyter-widgets/controls",
      "model_module_version": "1.4.0",
      "model_name": "TextModel",
      "state": {
       "layout": "IPY_MODEL_98282ea7547f4f5e9ab5e70da6cb3bcd",
       "placeholder": "Answer",
       "style": "IPY_MODEL_98a9e014f3ff4eddb62ea7ec5ad0cd4b"
      }
     },
     "fe94f4b0dd324f408df9456806e3843f": {
      "model_module": "@jupyter-widgets/output",
      "model_module_version": "1.0.0",
      "model_name": "OutputModel",
      "state": {
       "layout": "IPY_MODEL_0c95469fa39b46c5ae7a6da9100654c4"
      }
     }
    },
    "version_major": 2,
    "version_minor": 0
   }
  }
 },
 "nbformat": 4,
 "nbformat_minor": 2
}
